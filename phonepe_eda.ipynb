{
 "cells": [
  {
   "cell_type": "code",
   "execution_count": 1,
   "id": "274162b3",
   "metadata": {},
   "outputs": [],
   "source": [
    "import mysql.connector\n",
    "import pandas as pd\n",
    "import plotly.express as px\n",
    "import plotly.graph_objects as go\n",
    "import requests\n",
    "import json"
   ]
  },
  {
   "cell_type": "code",
   "execution_count": 2,
   "id": "b3957d30",
   "metadata": {},
   "outputs": [],
   "source": [
    "# Dataframe creation\n",
    "\n",
    "# ✅ Connect to MySQL\n",
    "mydb = mysql.connector.connect(\n",
    "    host=\"localhost\",\n",
    "    port = '3306',\n",
    "    user=\"root\",        # or your MySQL username\n",
    "    password=\"1234\", # your MySQL password\n",
    "    database=\"PHONEPE_VISUALIZATION\"\n",
    ")\n",
    "\n",
    "cursor = mydb.cursor()\n",
    "\n",
    "#aggre_insurance_df\n",
    "cursor.execute(\"SELECT * FROM aggregated_insurance\")\n",
    "table1 = cursor.fetchall()\n",
    "\n",
    "Aggre_insurance = pd.DataFrame(table1, columns=(\"States\", \"Years\", \"Quarter\", \"Insurance_type\",\n",
    "                                                        \"Insurance_count\", \"Insurance_amount\"))\n",
    "\n",
    "#aggre_transaction_df\n",
    "cursor.execute(\"SELECT * FROM aggregated_transaction\")\n",
    "table2 = cursor.fetchall()\n",
    "\n",
    "Aggre_transaction = pd.DataFrame(table2, columns=(\"States\", \"Years\", \"Quarter\", \"Transaction_type\",\n",
    "                                                        \"Transaction_count\", \"Transaction_amount\"))\n",
    "\n",
    "#aggre_user_df\n",
    "cursor.execute(\"SELECT * FROM aggregated_user\")\n",
    "table3 = cursor.fetchall()\n",
    "\n",
    "Aggre_user = pd.DataFrame(table3, columns=(\"States\", \"Years\", \"Quarter\", \"Brands\",\n",
    "                                                        \"Transaction_count\", \"Percentage\"))\n",
    "\n",
    "#map_insurance_df\n",
    "cursor.execute(\"SELECT * FROM map_insurance\")\n",
    "table4 = cursor.fetchall()\n",
    "\n",
    "map_insurance = pd.DataFrame(table4, columns=(\"States\", \"Years\", \"Quarter\", \"Districts\",\n",
    "                                                        \"Transaction_count\", \"Transaction_amount\"))\n",
    "\n",
    "#map_transaction_df\n",
    "cursor.execute(\"SELECT * FROM map_transaction\")\n",
    "table5 = cursor.fetchall()\n",
    "\n",
    "map_transaction = pd.DataFrame(table5, columns=(\"States\", \"Years\", \"Quarter\", \"Districts\",\n",
    "                                                        \"Transaction_count\", \"Transaction_amount\"))\n",
    "\n",
    "#map_user_df\n",
    "cursor.execute(\"SELECT * FROM map_user\")\n",
    "table6 = cursor.fetchall()\n",
    "\n",
    "map_user = pd.DataFrame(table6, columns=(\"States\", \"Years\", \"Quarter\", \"Districts\",\n",
    "                                                        \"RegisteredUser\", \"AppOpens\"))\n",
    "\n",
    "#top_insurance_df\n",
    "cursor.execute(\"SELECT * FROM top_insurance\")\n",
    "table7 = cursor.fetchall()\n",
    "\n",
    "top_insurance = pd.DataFrame(table7, columns=(\"States\", \"Years\", \"Quarter\", \"Pincodes\",\n",
    "                                                        \"Transaction_count\", \"Transaction_amount\"))\n",
    "\n",
    "#top_transaction_df\n",
    "cursor.execute(\"SELECT * FROM top_transaction\")\n",
    "table8 = cursor.fetchall()\n",
    "\n",
    "top_transaction = pd.DataFrame(table8, columns=(\"States\", \"Years\", \"Quarter\", \"Pincodes\",\n",
    "                                                        \"Transaction_count\", \"Transaction_amount\"))\n",
    "\n",
    "#top_user_df\n",
    "cursor.execute(\"SELECT * FROM top_user\")\n",
    "table9 = cursor.fetchall()\n",
    "\n",
    "top_user = pd.DataFrame(table9, columns=(\"States\", \"Years\", \"Quarter\", \"Pincodes\",\n",
    "                                                        \"RegisteredUser\"))"
   ]
  },
  {
   "cell_type": "code",
   "execution_count": null,
   "id": "8d4290df",
   "metadata": {},
   "outputs": [],
   "source": [
    "# ✅ Connect to MySQL\n",
    "def top_chart_insurance_amount(table_name):\n",
    "    mydb = mysql.connector.connect(\n",
    "        host=\"localhost\",\n",
    "        port = '3306',\n",
    "        user=\"root\",        # or your MySQL username\n",
    "        password=\"1234\", # your MySQL password\n",
    "        database=\"PHONEPE_VISUALIZATION\"\n",
    "    )\n",
    "\n",
    "    cursor = mydb.cursor()\n",
    "\n",
    "    #plot_1\n",
    "    query1= f'''select states, sum(insurance_amount) as insurance_amount\n",
    "                from {table_name}\n",
    "                group by states\n",
    "                order by insurance_amount desc\n",
    "                limit 10;'''\n",
    "\n",
    "    cursor.execute(query1)\n",
    "    table_1 = cursor.fetchall()\n",
    "    mydb.commit()\n",
    "\n",
    "    df_1= pd.DataFrame(table_1, columns= (\"states\", \"insurance_amount\"))\n",
    "\n",
    "\n",
    "    fig_amount_1= px.bar(df_1, x=\"states\", y= \"insurance_amount\", title= \"TOP 10 OF INSURANCE AMOUNT\", hover_name= \"states\",\n",
    "                        color_discrete_sequence=px.colors.sequential.Aggrnyl, height= 650, width= 600)\n",
    "    fig_amount_1.show()\n",
    "\n",
    "\n",
    "    #plot_2\n",
    "    query2= f'''select states, sum(insurance_amount) as insurance_amount\n",
    "                from {table_name}\n",
    "                group by states\n",
    "                order by insurance_amount \n",
    "                limit 10;'''\n",
    "\n",
    "    cursor.execute(query2)\n",
    "    table_2 = cursor.fetchall()\n",
    "    mydb.commit()\n",
    "\n",
    "    df_2= pd.DataFrame(table_2, columns= (\"states\", \"insurance_amount\"))\n",
    "\n",
    "    \n",
    "    fig_amount_2= px.bar(df_2, x=\"states\", y= \"insurance_amount\", title= \"LAST 10 OF INSURANCE AMOUNT\", hover_name= \"states\",\n",
    "                        color_discrete_sequence=px.colors.sequential.Aggrnyl_r, height= 650, width= 600)\n",
    "    fig_amount_2.show()\n",
    "\n",
    "    #plot_3\n",
    "    query3= f'''select states, avg(insurance_amount) as insurance_amount\n",
    "                from {table_name}\n",
    "                group by states\n",
    "                order by insurance_amount'''\n",
    "\n",
    "    cursor.execute(query3)\n",
    "    table_3 = cursor.fetchall()\n",
    "    mydb.commit()\n",
    "\n",
    "    df_3= pd.DataFrame(table_3, columns= (\"states\", \"insurance_amount\"))\n",
    "\n",
    "    fig_amount_3= px.bar(df_3, y= \"states\", x= \"insurance_amount\", title= \"AVERAGE OF INSURANCE AMOUNT\", hover_name= \"states\", orientation= \"h\",\n",
    "                        color_discrete_sequence=px.colors.sequential.Bluered_r, height= 650, width= 600)\n",
    "    fig_amount_3.show()"
   ]
  },
  {
   "cell_type": "code",
   "execution_count": null,
   "id": "45f101df",
   "metadata": {},
   "outputs": [],
   "source": [
    "top_chart_insurance_amount('aggregated_insurance')"
   ]
  },
  {
   "cell_type": "code",
   "execution_count": 12,
   "id": "e9ad66ff",
   "metadata": {},
   "outputs": [],
   "source": [
    "# ✅ Connect to MySQL\n",
    "def top_chart_insurance_count(table_name):\n",
    "    mydb = mysql.connector.connect(\n",
    "        host=\"localhost\",\n",
    "        port = '3306',\n",
    "        user=\"root\",        # or your MySQL username\n",
    "        password=\"1234\", # your MySQL password\n",
    "        database=\"PHONEPE_VISUALIZATION\"\n",
    "    )\n",
    "\n",
    "    cursor = mydb.cursor()\n",
    "\n",
    "    #plot_1\n",
    "    query1= f'''select states, sum(insurance_count) as insurance_count\n",
    "                from {table_name}\n",
    "                group by states\n",
    "                order by insurance_count desc\n",
    "                limit 10;'''\n",
    "\n",
    "    cursor.execute(query1)\n",
    "    table_1 = cursor.fetchall()\n",
    "    mydb.commit()\n",
    "\n",
    "    df_1= pd.DataFrame(table_1, columns= (\"states\", \"insurance_count\"))\n",
    "\n",
    "\n",
    "    fig_amount_1= px.bar(df_1, x=\"states\", y= \"insurance_count\", title= \"TOP 10 OF INSURANCE COUNT\", hover_name= \"states\",\n",
    "                        color_discrete_sequence=px.colors.sequential.Aggrnyl, height= 650, width= 600)\n",
    "    fig_amount_1.show()\n",
    "\n",
    "\n",
    "    #plot_2\n",
    "    query2= f'''select states, sum(insurance_count) as insurance_count\n",
    "                from {table_name}\n",
    "                group by states\n",
    "                order by insurance_count \n",
    "                limit 10;'''\n",
    "\n",
    "    cursor.execute(query2)\n",
    "    table_2 = cursor.fetchall()\n",
    "    mydb.commit()\n",
    "\n",
    "    df_2= pd.DataFrame(table_2, columns= (\"states\", \"insurance_count\"))\n",
    "\n",
    "    \n",
    "    fig_amount_2= px.bar(df_2, x=\"states\", y= \"insurance_count\", title= \"LAST 10 OF INSURANCE COUNT\", hover_name= \"states\",\n",
    "                        color_discrete_sequence=px.colors.sequential.Aggrnyl_r, height= 650, width= 600)\n",
    "    fig_amount_2.show()\n",
    "\n",
    "    #plot_3\n",
    "    query3= f'''select states, avg(insurance_count) as insurance_count\n",
    "                from {table_name}\n",
    "                group by states\n",
    "                order by insurance_count'''\n",
    "\n",
    "    cursor.execute(query3)\n",
    "    table_3 = cursor.fetchall()\n",
    "    mydb.commit()\n",
    "\n",
    "    df_3= pd.DataFrame(table_3, columns= (\"states\", \"insurance_count\"))\n",
    "\n",
    "    fig_amount_3= px.bar(df_3, y= \"states\", x= \"insurance_count\", title= \"AVERAGE OF INSURANCE COUNT\", hover_name= \"states\", orientation= \"h\",\n",
    "                        color_discrete_sequence=px.colors.sequential.Bluered_r, height= 650, width= 600)\n",
    "    fig_amount_3.show()"
   ]
  },
  {
   "cell_type": "code",
   "execution_count": null,
   "id": "fb214057",
   "metadata": {},
   "outputs": [],
   "source": [
    "top_chart_insurance_count('aggregated_insurance')"
   ]
  },
  {
   "cell_type": "code",
   "execution_count": null,
   "id": "98aedabd",
   "metadata": {},
   "outputs": [],
   "source": [
    "# ✅ Connect to MySQL\n",
    "def top_chart_transaction_amount(table_name):\n",
    "    mydb = mysql.connector.connect(\n",
    "        host=\"localhost\",\n",
    "        port = '3306',\n",
    "        user=\"root\",        # or your MySQL username\n",
    "        password=\"1234\", # your MySQL password\n",
    "        database=\"PHONEPE_VISUALIZATION\"\n",
    "    )\n",
    "\n",
    "    cursor = mydb.cursor()\n",
    "\n",
    "    #plot_1\n",
    "    query1= f'''select states, sum(transaction_amount) as transaction_amount\n",
    "                from {table_name}\n",
    "                group by states\n",
    "                order by transaction_amount desc\n",
    "                limit 10;'''\n",
    "\n",
    "    cursor.execute(query1)\n",
    "    table_1 = cursor.fetchall()\n",
    "    mydb.commit()\n",
    "\n",
    "    df_1= pd.DataFrame(table_1, columns= (\"states\", \"transaction_amount\"))\n",
    "\n",
    "\n",
    "    fig_amount_1= px.bar(df_1, x=\"states\", y= \"transaction_amount\", title= \"Transaction Amount\", hover_name= \"states\",\n",
    "                        color_discrete_sequence=px.colors.sequential.Aggrnyl, height= 650, width= 600)\n",
    "    fig_amount_1.show()\n",
    "\n",
    "\n",
    "    #plot_2\n",
    "    query2= f'''select states, sum(transaction_amount) as transaction_amount\n",
    "                from {table_name}\n",
    "                group by states\n",
    "                order by transaction_amount \n",
    "                limit 10;'''\n",
    "\n",
    "    cursor.execute(query2)\n",
    "    table_2 = cursor.fetchall()\n",
    "    mydb.commit()\n",
    "\n",
    "    df_2= pd.DataFrame(table_2, columns= (\"states\", \"transaction_amount\"))\n",
    "\n",
    "    \n",
    "    fig_amount_2= px.bar(df_2, x=\"states\", y= \"transaction_amount\", title= \"Transaction Amount\", hover_name= \"states\",\n",
    "                        color_discrete_sequence=px.colors.sequential.Aggrnyl_r, height= 650, width= 600)\n",
    "    fig_amount_2.show()\n",
    "\n",
    "    #plot_3\n",
    "    query3= f'''select states, avg(transaction_amount) as transaction_amount\n",
    "                from {table_name}\n",
    "                group by states\n",
    "                order by transaction_amount'''\n",
    "\n",
    "    cursor.execute(query3)\n",
    "    table_3 = cursor.fetchall()\n",
    "    mydb.commit()\n",
    "\n",
    "    df_3= pd.DataFrame(table_3, columns= (\"states\", \"transaction_amount\"))\n",
    "\n",
    "    fig_amount_3= px.bar(df_3, y= \"states\", x= \"transaction_amount\", title= \"Transaction Amount\", hover_name= \"states\", orientation= \"h\",\n",
    "                        color_discrete_sequence=px.colors.sequential.Bluered_r, height= 650, width= 600)\n",
    "    fig_amount_3.show()"
   ]
  },
  {
   "cell_type": "code",
   "execution_count": null,
   "id": "58261add",
   "metadata": {},
   "outputs": [],
   "source": [
    "top_chart_transaction_amount('aggregated_transaction')"
   ]
  },
  {
   "cell_type": "code",
   "execution_count": null,
   "id": "601f5662",
   "metadata": {},
   "outputs": [],
   "source": [
    "# ✅ Connect to MySQL\n",
    "def top_chart_transaction_count(table_name):\n",
    "    mydb = mysql.connector.connect(\n",
    "        host=\"localhost\",\n",
    "        port = '3306',\n",
    "        user=\"root\",        # or your MySQL username\n",
    "        password=\"1234\", # your MySQL password\n",
    "        database=\"PHONEPE_VISUALIZATION\"\n",
    "    )\n",
    "\n",
    "    cursor = mydb.cursor()\n",
    "\n",
    "    #plot_1\n",
    "    query1= f'''select states, sum(transaction_count) as transaction_count\n",
    "                from {table_name}\n",
    "                group by states\n",
    "                order by transaction_count desc\n",
    "                limit 10;'''\n",
    "\n",
    "    cursor.execute(query1)\n",
    "    table_1 = cursor.fetchall()\n",
    "    mydb.commit()\n",
    "\n",
    "    df_1= pd.DataFrame(table_1, columns= (\"states\", \"transaction_count\"))\n",
    "\n",
    "\n",
    "    fig_amount_1= px.bar(df_1, x=\"states\", y= \"transaction_count\", title= \"Transaction Count\", hover_name= \"states\",\n",
    "                        color_discrete_sequence=px.colors.sequential.Aggrnyl, height= 650, width= 600)\n",
    "    fig_amount_1.show()\n",
    "\n",
    "\n",
    "    #plot_2\n",
    "    query2= f'''select states, sum(transaction_count) as transaction_count\n",
    "                from {table_name}\n",
    "                group by states\n",
    "                order by transaction_count \n",
    "                limit 10;'''\n",
    "\n",
    "    cursor.execute(query2)\n",
    "    table_2 = cursor.fetchall()\n",
    "    mydb.commit()\n",
    "\n",
    "    df_2= pd.DataFrame(table_2, columns= (\"states\", \"transaction_count\"))\n",
    "\n",
    "  \n",
    "    fig_amount_2= px.bar(df_2, x=\"states\", y= \"transaction_count\", title= \"Transaction Count\", hover_name= \"states\",\n",
    "                        color_discrete_sequence=px.colors.sequential.Aggrnyl_r, height= 650, width= 600)\n",
    "    fig_amount_2.show()\n",
    "\n",
    "    #plot_3\n",
    "    query3= f'''select states, avg(transaction_count) as transaction_count\n",
    "                from {table_name}\n",
    "                group by states\n",
    "                order by transaction_count'''\n",
    "\n",
    "    cursor.execute(query3)\n",
    "    table_3 = cursor.fetchall()\n",
    "    mydb.commit()\n",
    "\n",
    "    df_3= pd.DataFrame(table_3, columns= (\"states\", \"transaction_count\"))\n",
    "\n",
    "    fig_amount_3= px.bar(df_3, y= \"states\", x= \"transaction_count\", title= \"Transaction Count\", hover_name= \"states\", orientation= \"h\",\n",
    "                        color_discrete_sequence=px.colors.sequential.Bluered_r, height= 650, width= 600)\n",
    "    fig_amount_3.show()"
   ]
  },
  {
   "cell_type": "code",
   "execution_count": null,
   "id": "9b7cf085",
   "metadata": {},
   "outputs": [],
   "source": [
    "top_chart_transaction_count('aggregated_transaction')"
   ]
  },
  {
   "cell_type": "code",
   "execution_count": 7,
   "id": "0ddb05d2",
   "metadata": {},
   "outputs": [],
   "source": [
    "# ✅ Connect to MySQL\n",
    "def top_chart_registered_user(table_name, state):\n",
    "    mydb = mysql.connector.connect(\n",
    "        host=\"localhost\",\n",
    "        port = '3306',\n",
    "        user=\"root\",        # or your MySQL username\n",
    "        password=\"1234\", # your MySQL password\n",
    "        database=\"PHONEPE_VISUALIZATION\"\n",
    "    )\n",
    "\n",
    "    cursor = mydb.cursor()  \n",
    "\n",
    "    #plot_1\n",
    "    query1= f'''select districts, sum(registereduser) as registereduser\n",
    "                from {table_name}\n",
    "                where states= '{state}'\n",
    "                group by districts\n",
    "                order by registereduser desc\n",
    "                limit 10;'''\n",
    "\n",
    "    cursor.execute(query1)\n",
    "    table_1 = cursor.fetchall()\n",
    "    mydb.commit()\n",
    "\n",
    "    df_1= pd.DataFrame(table_1, columns= (\"districts\", \"registereduser\"))\n",
    "\n",
    "\n",
    "    fig_amount_1= px.bar(df_1, x=\"districts\", y= \"registereduser\", title= \"TOP 10 OF REGISTERED USER\", hover_name= \"districts\",\n",
    "                        color_discrete_sequence=px.colors.sequential.Aggrnyl, height= 650, width= 600)\n",
    "    fig_amount_1.show()\n",
    "\n",
    "\n",
    "    #plot_2\n",
    "    query2= f'''select districts, sum(registereduser) as registereduser\n",
    "                from {table_name}\n",
    "                where states= '{state}'\n",
    "                group by districts\n",
    "                order by registereduser \n",
    "                limit 10;'''\n",
    "\n",
    "    cursor.execute(query2)\n",
    "    table_2 = cursor.fetchall()\n",
    "    mydb.commit()\n",
    "\n",
    "    df_2= pd.DataFrame(table_2, columns= (\"districts\", \"registereduser\"))\n",
    "\n",
    "  \n",
    "    fig_amount_2= px.bar(df_2, x=\"districts\", y= \"registereduser\", title= \"LAST 10 OF REGISTERED USER\", hover_name= \"districts\",\n",
    "                        color_discrete_sequence=px.colors.sequential.Aggrnyl_r, height= 650, width= 600)\n",
    "    fig_amount_2.show()\n",
    "\n",
    "    #plot_3\n",
    "    query3= f'''select districts, avg(registereduser) as registereduser\n",
    "                from {table_name}\n",
    "                where states= '{state}'\n",
    "                group by districts\n",
    "                order by registereduser;'''\n",
    "\n",
    "    cursor.execute(query3)\n",
    "    table_3 = cursor.fetchall()\n",
    "    mydb.commit()\n",
    "\n",
    "    df_3= pd.DataFrame(table_3, columns= (\"districts\", \"registereduser\"))\n",
    "\n",
    "    fig_amount_3= px.bar(df_3, y= \"districts\", x= \"registereduser\", title= \"AVERAGE OF REGISTERED USER\", hover_name= \"districts\", orientation= \"h\",\n",
    "                        color_discrete_sequence=px.colors.sequential.Bluered_r, height= 650, width= 600)\n",
    "    fig_amount_3.show()"
   ]
  },
  {
   "cell_type": "code",
   "execution_count": null,
   "id": "bd2fe1b3",
   "metadata": {},
   "outputs": [],
   "source": [
    "top_chart_registered_user('map_user', 'Tamil Nadu')"
   ]
  },
  {
   "cell_type": "code",
   "execution_count": 9,
   "id": "bc2898d4",
   "metadata": {},
   "outputs": [],
   "source": [
    "# ✅ Connect to MySQL\n",
    "def top_chart_appopens(table_name, state):\n",
    "    mydb = mysql.connector.connect(\n",
    "        host=\"localhost\",\n",
    "        port = '3306',\n",
    "        user=\"root\",        # or your MySQL username\n",
    "        password=\"1234\", # your MySQL password\n",
    "        database=\"PHONEPE_VISUALIZATION\"\n",
    "    )\n",
    "\n",
    "    cursor = mydb.cursor()  \n",
    "\n",
    "    #plot_1\n",
    "    query1= f'''select districts, sum(appopens) as appopens\n",
    "                from {table_name}\n",
    "                where states= '{state}'\n",
    "                group by districts\n",
    "                order by appopens desc\n",
    "                limit 10;'''\n",
    "\n",
    "    cursor.execute(query1)\n",
    "    table_1 = cursor.fetchall()\n",
    "    mydb.commit()\n",
    "\n",
    "    df_1= pd.DataFrame(table_1, columns= (\"districts\", \"appopens\"))\n",
    "\n",
    "\n",
    "    fig_amount_1= px.bar(df_1, x=\"districts\", y= \"appopens\", title= \"TOP 10 OF APPOPENS\", hover_name= \"districts\",\n",
    "                        color_discrete_sequence=px.colors.sequential.Aggrnyl, height= 650, width= 600)\n",
    "    fig_amount_1.show()\n",
    "\n",
    "\n",
    "    #plot_2\n",
    "    query2= f'''select districts, sum(appopens) as appopens\n",
    "                from {table_name}\n",
    "                where states= '{state}'\n",
    "                group by districts\n",
    "                order by appopens \n",
    "                limit 10;'''\n",
    "\n",
    "    cursor.execute(query2)\n",
    "    table_2 = cursor.fetchall()\n",
    "    mydb.commit()\n",
    "\n",
    "    df_2= pd.DataFrame(table_2, columns= (\"districts\", \"appopens\"))\n",
    "\n",
    "  \n",
    "    fig_amount_2= px.bar(df_2, x=\"districts\", y= \"appopens\", title= \"LAST 10 OF APPOPENS\", hover_name= \"districts\",\n",
    "                        color_discrete_sequence=px.colors.sequential.Aggrnyl_r, height= 650, width= 600)\n",
    "    fig_amount_2.show()\n",
    "\n",
    "    #plot_3\n",
    "    query3= f'''select districts, avg(appopens) as appopens\n",
    "                from {table_name}\n",
    "                where states= '{state}'\n",
    "                group by districts\n",
    "                order by appopens;'''\n",
    "\n",
    "    cursor.execute(query3)\n",
    "    table_3 = cursor.fetchall()\n",
    "    mydb.commit()\n",
    "\n",
    "    df_3= pd.DataFrame(table_3, columns= (\"districts\", \"appopens\"))\n",
    "\n",
    "    fig_amount_3= px.bar(df_3, y= \"districts\", x= \"appopens\", title= \"AVERAGE OF APPOPENS\", hover_name= \"districts\", orientation= \"h\",\n",
    "                        color_discrete_sequence=px.colors.sequential.Bluered_r, height= 650, width= 600)\n",
    "    fig_amount_3.show()"
   ]
  },
  {
   "cell_type": "code",
   "execution_count": null,
   "id": "51b332a0",
   "metadata": {},
   "outputs": [],
   "source": [
    "top_chart_appopens('map_user', 'Tamil Nadu')"
   ]
  },
  {
   "cell_type": "code",
   "execution_count": 11,
   "id": "4c54c2d6",
   "metadata": {},
   "outputs": [],
   "source": [
    "# ✅ Connect to MySQL\n",
    "def top_chart_registered_users(table_name):\n",
    "    mydb = mysql.connector.connect(\n",
    "        host=\"localhost\",\n",
    "        port = '3306',\n",
    "        user=\"root\",        # or your MySQL username\n",
    "        password=\"1234\", # your MySQL password\n",
    "        database=\"PHONEPE_VISUALIZATION\"\n",
    "    )\n",
    "\n",
    "    cursor = mydb.cursor()  \n",
    "\n",
    "    #plot_1\n",
    "    query1= f'''select states, sum(registereduser) as registereduser\n",
    "                from {table_name}\n",
    "                group by states\n",
    "                order by registereduser desc\n",
    "                limit 10;'''\n",
    "\n",
    "    cursor.execute(query1)\n",
    "    table_1 = cursor.fetchall()\n",
    "    mydb.commit()\n",
    "\n",
    "    df_1= pd.DataFrame(table_1, columns= (\"states\", \"registereduser\"))\n",
    "\n",
    "\n",
    "    fig_amount_1= px.bar(df_1, x=\"states\", y= \"registereduser\", title= \"TOP 10 OF REGISTERED USER\", hover_name= \"states\",\n",
    "                        color_discrete_sequence=px.colors.sequential.Aggrnyl, height= 650, width= 600)\n",
    "    fig_amount_1.show()\n",
    "\n",
    "\n",
    "    #plot_2\n",
    "    query2= f'''select states, sum(registereduser) as registereduser\n",
    "                from {table_name}\n",
    "                group by states\n",
    "                order by registereduser\n",
    "                limit 10;'''\n",
    "\n",
    "    cursor.execute(query2)\n",
    "    table_2 = cursor.fetchall()\n",
    "    mydb.commit()\n",
    "\n",
    "    df_2= pd.DataFrame(table_2, columns= (\"states\", \"registereduser\"))\n",
    "\n",
    "  \n",
    "    fig_amount_2= px.bar(df_2, x=\"states\", y= \"registereduser\", title= \"LAST 10 OF REGISTERED USER\", hover_name= \"states\",\n",
    "                        color_discrete_sequence=px.colors.sequential.Aggrnyl_r, height= 650, width= 600)\n",
    "    fig_amount_2.show()\n",
    "\n",
    "    #plot_3\n",
    "    query3= f'''select states, avg(registereduser) as registereduser\n",
    "                from {table_name}\n",
    "                group by states\n",
    "                order by registereduser\n",
    "                limit 10;'''\n",
    "\n",
    "    cursor.execute(query3)\n",
    "    table_3 = cursor.fetchall()\n",
    "    mydb.commit()\n",
    "\n",
    "    df_3= pd.DataFrame(table_3, columns= (\"states\", \"registereduser\"))\n",
    "\n",
    "    fig_amount_3= px.bar(df_3, y= \"states\", x= \"registereduser\", title= \"AVERAGE OF REGISTERED USER\", hover_name= \"states\", orientation= \"h\",\n",
    "                        color_discrete_sequence=px.colors.sequential.Bluered_r, height= 650, width= 600)\n",
    "    fig_amount_3.show()"
   ]
  },
  {
   "cell_type": "code",
   "execution_count": null,
   "id": "bd960d34",
   "metadata": {},
   "outputs": [],
   "source": [
    "top_chart_registered_users('top_user')"
   ]
  },
  {
   "cell_type": "code",
   "execution_count": null,
   "id": "f5cb9de6",
   "metadata": {},
   "outputs": [],
   "source": [
    "top_user"
   ]
  },
  {
   "cell_type": "code",
   "execution_count": null,
   "id": "7bee3218",
   "metadata": {},
   "outputs": [],
   "source": [
    "top_transaction"
   ]
  },
  {
   "cell_type": "code",
   "execution_count": null,
   "id": "84480c84",
   "metadata": {},
   "outputs": [],
   "source": [
    "top_insurance"
   ]
  },
  {
   "cell_type": "code",
   "execution_count": null,
   "id": "cdf5a808",
   "metadata": {},
   "outputs": [],
   "source": [
    "map_user"
   ]
  },
  {
   "cell_type": "code",
   "execution_count": null,
   "id": "8accfc5d",
   "metadata": {},
   "outputs": [],
   "source": [
    "map_transaction"
   ]
  },
  {
   "cell_type": "code",
   "execution_count": null,
   "id": "6ce7c229",
   "metadata": {},
   "outputs": [],
   "source": [
    "map_insurance"
   ]
  },
  {
   "cell_type": "code",
   "execution_count": null,
   "id": "23e9f208",
   "metadata": {},
   "outputs": [],
   "source": [
    "Aggre_user"
   ]
  },
  {
   "cell_type": "code",
   "execution_count": null,
   "id": "31ef2e89",
   "metadata": {},
   "outputs": [],
   "source": [
    "Aggre_insurance"
   ]
  },
  {
   "cell_type": "code",
   "execution_count": null,
   "id": "993c8c90",
   "metadata": {},
   "outputs": [],
   "source": [
    "Aggre_transaction"
   ]
  },
  {
   "cell_type": "markdown",
   "id": "5c8934db",
   "metadata": {},
   "source": [
    "## Aggregated insurance"
   ]
  },
  {
   "cell_type": "code",
   "execution_count": 10,
   "id": "683cf35b",
   "metadata": {},
   "outputs": [],
   "source": [
    "#Aggre_insurance\n",
    "def Transaction_amount_count_Y(df, year):\n",
    "    tacy= df[df[\"Years\"] == year]\n",
    "    tacy.reset_index(drop= True, inplace= True)\n",
    "\n",
    "    tacyg=tacy.groupby(\"States\")[[\"Insurance_count\", \"Insurance_amount\"]].sum()\n",
    "    tacyg.reset_index(inplace= True)\n",
    "\n",
    "    fig_amount= px.bar(tacyg, x=\"States\", y= \"Insurance_amount\", title=f\"{year} Insurance Amount\",\n",
    "                        color_discrete_sequence=px.colors.sequential.Aggrnyl, height= 650, width= 600)\n",
    "    fig_amount.show()\n",
    "\n",
    "    fig_count= px.bar(tacyg, x=\"States\", y= \"Insurance_count\", title=f\"{year} Insurance Count\",\n",
    "                        color_discrete_sequence=px.colors.sequential.Bluered_r, height= 650, width= 600)\n",
    "    fig_count.show()\n",
    "\n",
    "    url = \"https://gist.githubusercontent.com/jbrobst/56c13bbbf9d97d187fea01ca62ea5112/raw/e388c4cae20aa53cb5090210a42ebb9b765c0a36/india_states.geojson\"\n",
    "    response = requests.get(url)\n",
    "    data1 = json.loads(response.content)\n",
    "    states_name = []\n",
    "    for feature in data1[\"features\"]:\n",
    "        states_name.append(feature[\"properties\"][\"ST_NM\"])\n",
    "\n",
    "    states_name.sort()\n",
    "\n",
    "    fig_india_1 = px.choropleth(tacyg, geojson= data1, locations= \"States\", featureidkey= \"properties.ST_NM\",\n",
    "                                color= \"Insurance_amount\", color_continuous_scale= \"Rainbow\",\n",
    "                                range_color= (tacyg[\"Insurance_amount\"].min(), tacyg[\"Insurance_amount\"].max()),\n",
    "                                hover_name = \"States\", title = f\"{year} INSURANCE AMOUNT\", fitbounds = \"locations\",\n",
    "                                height= 650, width= 600)\n",
    "    fig_india_1.update_geos(visible = False)\n",
    "    fig_india_1.show()\n",
    "\n",
    "    fig_india_2 = px.choropleth(tacyg, geojson= data1, locations= \"States\", featureidkey= \"properties.ST_NM\",\n",
    "                                color= \"Insurance_count\", color_continuous_scale= \"Rainbow\",\n",
    "                                range_color= (tacyg[\"Insurance_count\"].min(), tacyg[\"Insurance_count\"].max()),\n",
    "                                hover_name = \"States\", title = f\"{year} INSURANCE COUNT\", fitbounds = \"locations\",\n",
    "                                height= 650, width= 600)\n",
    "    fig_india_2.update_geos(visible = False)\n",
    "    fig_india_2.show()\n",
    "\n",
    "    return tacy"
   ]
  },
  {
   "cell_type": "code",
   "execution_count": 11,
   "id": "97869e0d",
   "metadata": {},
   "outputs": [],
   "source": [
    "#Aggre_insurance quarter based\n",
    "def Transaction_amount_count_Y_Q(df, quarter):\n",
    "    tacy= df[df[\"Quarter\"] == quarter]\n",
    "    tacy.reset_index(drop= True, inplace= True)\n",
    "\n",
    "    tacyg=tacy.groupby(\"States\")[[\"Insurance_count\", \"Insurance_amount\"]].sum()\n",
    "    tacyg.reset_index(inplace= True)\n",
    "\n",
    "    fig_amount= px.bar(tacyg, x=\"States\", y= \"Insurance_amount\", title=f\"{tacy['Years'].min()} YEAR {quarter} QUARTER Insurance Amount\",\n",
    "                        color_discrete_sequence=px.colors.sequential.Aggrnyl, height= 650, width= 600)\n",
    "    fig_amount.show()\n",
    "\n",
    "    fig_count= px.bar(tacyg, x=\"States\", y= \"Insurance_count\", title=f\"{tacy['Years'].min()} YEAR {quarter} QUARTER Insurance Count\",\n",
    "                        color_discrete_sequence=px.colors.sequential.Bluered_r, height= 650, width= 600)\n",
    "    fig_count.show()\n",
    "\n",
    "    url = \"https://gist.githubusercontent.com/jbrobst/56c13bbbf9d97d187fea01ca62ea5112/raw/e388c4cae20aa53cb5090210a42ebb9b765c0a36/india_states.geojson\"\n",
    "    response = requests.get(url)\n",
    "    data1 = json.loads(response.content)\n",
    "    states_name = []\n",
    "    for feature in data1[\"features\"]:\n",
    "        states_name.append(feature[\"properties\"][\"ST_NM\"])\n",
    "\n",
    "    states_name.sort()\n",
    "\n",
    "    fig_india_1 = px.choropleth(tacyg, geojson= data1, locations= \"States\", featureidkey= \"properties.ST_NM\",\n",
    "                                color= \"Insurance_amount\", color_continuous_scale= \"Rainbow\",\n",
    "                                range_color= (tacyg[\"Insurance_amount\"].min(), tacyg[\"Insurance_amount\"].max()),\n",
    "                                hover_name = \"States\", title = f\"{tacy['Years'].min()} YEAR {quarter} QUARTER INSURANCE AMOUNT\", fitbounds = \"locations\",\n",
    "                                height= 650, width= 600)\n",
    "    fig_india_1.update_geos(visible = False)\n",
    "    fig_india_1.show()\n",
    "\n",
    "    fig_india_2 = px.choropleth(tacyg, geojson= data1, locations= \"States\", featureidkey= \"properties.ST_NM\",\n",
    "                                color= \"Insurance_count\", color_continuous_scale= \"Rainbow\",\n",
    "                                range_color= (tacyg[\"Insurance_count\"].min(), tacyg[\"Insurance_count\"].max()),\n",
    "                                hover_name = \"States\", title = f\"{tacy['Years'].min()} YEAR {quarter} QUARTER INSURANCE COUNT\", fitbounds = \"locations\",\n",
    "                                height= 650, width= 600)\n",
    "    fig_india_2.update_geos(visible = False)\n",
    "    fig_india_2.show()\n",
    "\n",
    "    "
   ]
  },
  {
   "cell_type": "code",
   "execution_count": null,
   "id": "bf7c4d1e",
   "metadata": {},
   "outputs": [],
   "source": [
    "tac_Y= Transaction_amount_count_Y(Aggre_insurance, 2022)"
   ]
  },
  {
   "cell_type": "code",
   "execution_count": null,
   "id": "ee7fd3c1",
   "metadata": {},
   "outputs": [],
   "source": [
    "Transaction_amount_count_Y_Q(tac_Y, 2)"
   ]
  },
  {
   "cell_type": "code",
   "execution_count": 16,
   "id": "af5ae968",
   "metadata": {},
   "outputs": [
    {
     "data": {
      "text/plain": [
       "array([2022])"
      ]
     },
     "execution_count": 16,
     "metadata": {},
     "output_type": "execute_result"
    }
   ],
   "source": [
    "tac_Y['Years'].unique()"
   ]
  },
  {
   "cell_type": "code",
   "execution_count": 17,
   "id": "252d7834",
   "metadata": {},
   "outputs": [
    {
     "data": {
      "text/plain": [
       "np.int64(2020)"
      ]
     },
     "execution_count": 17,
     "metadata": {},
     "output_type": "execute_result"
    }
   ],
   "source": [
    "Aggre_insurance['Years'].min()"
   ]
  },
  {
   "cell_type": "code",
   "execution_count": null,
   "id": "ce95c659",
   "metadata": {},
   "outputs": [],
   "source": [
    "Aggre_insurance"
   ]
  },
  {
   "cell_type": "code",
   "execution_count": null,
   "id": "136c62c0",
   "metadata": {},
   "outputs": [],
   "source": [
    "Aggre_transaction"
   ]
  },
  {
   "cell_type": "code",
   "execution_count": 16,
   "id": "e93d7332",
   "metadata": {},
   "outputs": [
    {
     "data": {
      "text/plain": [
       "array(['Recharge & bill payments', 'Peer-to-peer payments',\n",
       "       'Merchant payments', 'Financial Services', 'Others'], dtype=object)"
      ]
     },
     "execution_count": 16,
     "metadata": {},
     "output_type": "execute_result"
    }
   ],
   "source": [
    "Aggre_transaction['Transaction_type'].unique()"
   ]
  },
  {
   "cell_type": "markdown",
   "id": "ab1b950b",
   "metadata": {},
   "source": [
    "## Aggregated transaction"
   ]
  },
  {
   "cell_type": "code",
   "execution_count": 13,
   "id": "32493639",
   "metadata": {},
   "outputs": [],
   "source": [
    "#Aggre_transaction\n",
    "def Aggre_Transaction_amount_count_Y(df, year):\n",
    "    tacy= df[df[\"Years\"] == year]\n",
    "    tacy.reset_index(drop= True, inplace= True)\n",
    "\n",
    "    tacyg=tacy.groupby(\"States\")[[\"Transaction_count\", \"Transaction_amount\"]].sum()\n",
    "    tacyg.reset_index(inplace= True)\n",
    "\n",
    "    fig_amount= px.bar(tacyg, x=\"States\", y= \"Transaction_amount\", title=f\"{year} Transaction Amount\",\n",
    "                        color_discrete_sequence=px.colors.sequential.Aggrnyl, height= 650, width= 600)\n",
    "    fig_amount.show()\n",
    "\n",
    "    fig_count= px.bar(tacyg, x=\"States\", y= \"Transaction_count\", title=f\"{year} Transaction Count\",\n",
    "                        color_discrete_sequence=px.colors.sequential.Bluered_r, height= 650, width= 600)\n",
    "    fig_count.show()\n",
    "\n",
    "    url = \"https://gist.githubusercontent.com/jbrobst/56c13bbbf9d97d187fea01ca62ea5112/raw/e388c4cae20aa53cb5090210a42ebb9b765c0a36/india_states.geojson\"\n",
    "    response = requests.get(url)\n",
    "    data1 = json.loads(response.content)\n",
    "    states_name = []\n",
    "    for feature in data1[\"features\"]:\n",
    "        states_name.append(feature[\"properties\"][\"ST_NM\"])\n",
    "\n",
    "    states_name.sort()\n",
    "\n",
    "    fig_india_1 = px.choropleth(tacyg, geojson= data1, locations= \"States\", featureidkey= \"properties.ST_NM\",\n",
    "                                color= \"Transaction_amount\", color_continuous_scale= \"Rainbow\",\n",
    "                                range_color= (tacyg[\"Transaction_amount\"].min(), tacyg[\"Transaction_amount\"].max()),\n",
    "                                hover_name = \"States\", title = f\"{year} TRANSACTION AMOUNT\", fitbounds = \"locations\",\n",
    "                                height= 650, width= 600)\n",
    "    fig_india_1.update_geos(visible = False)\n",
    "    fig_india_1.show()\n",
    "\n",
    "    fig_india_2 = px.choropleth(tacyg, geojson= data1, locations= \"States\", featureidkey= \"properties.ST_NM\",\n",
    "                                color= \"Transaction_count\", color_continuous_scale= \"Rainbow\",\n",
    "                                range_color= (tacyg[\"Transaction_count\"].min(), tacyg[\"Transaction_count\"].max()),\n",
    "                                hover_name = \"States\", title = f\"{year} TRANSACTION COUNT\", fitbounds = \"locations\",\n",
    "                                height= 650, width= 600)\n",
    "    fig_india_2.update_geos(visible = False)\n",
    "    fig_india_2.show()\n",
    "\n",
    "    return tacy"
   ]
  },
  {
   "cell_type": "code",
   "execution_count": null,
   "id": "17c85943",
   "metadata": {},
   "outputs": [],
   "source": [
    "Aggre_tran_tac_Y = Aggre_Transaction_amount_count_Y(Aggre_transaction, 2022)"
   ]
  },
  {
   "cell_type": "code",
   "execution_count": null,
   "id": "6f0445a2",
   "metadata": {},
   "outputs": [],
   "source": [
    "Aggre_tran_tac_Y"
   ]
  },
  {
   "cell_type": "code",
   "execution_count": null,
   "id": "88cdafd7",
   "metadata": {},
   "outputs": [],
   "source": [
    "tacy= Aggre_tran_tac_Y[Aggre_tran_tac_Y[\"States\"] == \"West Bengal\"]\n",
    "tacy.reset_index(drop= True, inplace= True)\n",
    "tacy"
   ]
  },
  {
   "cell_type": "code",
   "execution_count": 15,
   "id": "05cfdeed",
   "metadata": {},
   "outputs": [],
   "source": [
    "#Aggre_transaction quarter based\n",
    "def Aggre_Transaction_amount_count_Y_Q(df, quarter):\n",
    "    tacy= df[df[\"Quarter\"] == quarter]\n",
    "    tacy.reset_index(drop= True, inplace= True)\n",
    "\n",
    "    tacyg=tacy.groupby(\"States\")[[\"Transaction_count\", \"Transaction_amount\"]].sum()\n",
    "    tacyg.reset_index(inplace= True)\n",
    "\n",
    "    fig_amount= px.bar(tacyg, x=\"States\", y= \"Transaction_amount\", title=f\"{tacy['Years'].min()} YEAR {quarter} QUARTER Transaction Amount\",\n",
    "                        color_discrete_sequence=px.colors.sequential.Aggrnyl, height= 650, width= 600)\n",
    "    fig_amount.show()\n",
    "\n",
    "    fig_count= px.bar(tacyg, x=\"States\", y= \"Transaction_count\", title=f\"{tacy['Years'].min()} YEAR {quarter} QUARTER Transaction Count\",\n",
    "                        color_discrete_sequence=px.colors.sequential.Bluered_r, height= 650, width= 600)\n",
    "    fig_count.show()\n",
    "\n",
    "    url = \"https://gist.githubusercontent.com/jbrobst/56c13bbbf9d97d187fea01ca62ea5112/raw/e388c4cae20aa53cb5090210a42ebb9b765c0a36/india_states.geojson\"\n",
    "    response = requests.get(url)\n",
    "    data1 = json.loads(response.content)\n",
    "    states_name = []\n",
    "    for feature in data1[\"features\"]:\n",
    "        states_name.append(feature[\"properties\"][\"ST_NM\"])\n",
    "\n",
    "    states_name.sort()\n",
    "\n",
    "    fig_india_1 = px.choropleth(tacyg, geojson= data1, locations= \"States\", featureidkey= \"properties.ST_NM\",\n",
    "                                color= \"Transaction_amount\", color_continuous_scale= \"Rainbow\",\n",
    "                                range_color= (tacyg[\"Transaction_amount\"].min(), tacyg[\"Transaction_amount\"].max()),\n",
    "                                hover_name = \"States\", title = f\"{tacy['Years'].min()} YEAR {quarter} QUARTER TRANSACTION AMOUNT\", fitbounds = \"locations\",\n",
    "                                height= 650, width= 600)\n",
    "    fig_india_1.update_geos(visible = False)\n",
    "    fig_india_1.show()\n",
    "\n",
    "    fig_india_2 = px.choropleth(tacyg, geojson= data1, locations= \"States\", featureidkey= \"properties.ST_NM\",\n",
    "                                color= \"Transaction_count\", color_continuous_scale= \"Rainbow\",\n",
    "                                range_color= (tacyg[\"Transaction_count\"].min(), tacyg[\"Transaction_count\"].max()),\n",
    "                                hover_name = \"States\", title = f\"{tacy['Years'].min()} YEAR {quarter} QUARTER TRANSACTION COUNT\", fitbounds = \"locations\",\n",
    "                                height= 650, width= 600)\n",
    "    fig_india_2.update_geos(visible = False)\n",
    "    fig_india_2.show()\n",
    "\n",
    "    return tacy"
   ]
  },
  {
   "cell_type": "code",
   "execution_count": null,
   "id": "60e27450",
   "metadata": {},
   "outputs": [],
   "source": [
    "Aggre_tran_tac_Y_Q = Aggre_Transaction_amount_count_Y_Q(Aggre_tran_tac_Y, 2)"
   ]
  },
  {
   "cell_type": "code",
   "execution_count": null,
   "id": "ec32bbcf",
   "metadata": {},
   "outputs": [],
   "source": [
    "Aggre_tran_tac_Y\n"
   ]
  },
  {
   "cell_type": "code",
   "execution_count": 17,
   "id": "b6a2f377",
   "metadata": {},
   "outputs": [],
   "source": [
    "# aggregated transaction type\n",
    "def Aggre_Tran_Transaction_type(df, state):\n",
    "    \n",
    "    tacy= df[df[\"States\"] == state]\n",
    "    tacy.reset_index(drop= True, inplace= True)\n",
    "\n",
    "    tacyg=tacy.groupby(\"Transaction_type\")[[\"Transaction_count\", \"Transaction_amount\"]].sum()\n",
    "    tacyg.reset_index(inplace= True)\n",
    "\n",
    "    fig_pie_1= px.pie(data_frame=tacyg, names= \"Transaction_type\", values=\"Transaction_amount\",\n",
    "                        width=1000,title= f\"{state.upper()} TRANSACTION AMOUNT\",hole=0.5)\n",
    "    fig_pie_1.show()\n",
    "\n",
    "    fig_pie_2= px.pie(data_frame=tacyg, names= \"Transaction_type\", values=\"Transaction_count\",\n",
    "                        width=1000,title= f\"{state.upper()} TRANSACTION COUNT\",hole=0.5)\n",
    "    fig_pie_2.show()\n"
   ]
  },
  {
   "cell_type": "code",
   "execution_count": null,
   "id": "56d109af",
   "metadata": {},
   "outputs": [],
   "source": [
    "Aggre_Tran_Transaction_type(Aggre_tran_tac_Y, 'Tamil Nadu')"
   ]
  },
  {
   "cell_type": "code",
   "execution_count": null,
   "id": "99f5e586",
   "metadata": {},
   "outputs": [],
   "source": [
    "Aggre_tran_tac_Y['States'].unique()"
   ]
  },
  {
   "cell_type": "code",
   "execution_count": null,
   "id": "3a59b1c1",
   "metadata": {},
   "outputs": [],
   "source": [
    "Aggre_tran_tac_Y_Q"
   ]
  },
  {
   "cell_type": "code",
   "execution_count": null,
   "id": "86ba1ad1",
   "metadata": {},
   "outputs": [],
   "source": [
    "Aggre_tran_tac_Y_Q['States'].unique()"
   ]
  },
  {
   "cell_type": "code",
   "execution_count": null,
   "id": "1e09d326",
   "metadata": {},
   "outputs": [],
   "source": [
    "Aggre_Tran_Transaction_type(Aggre_tran_tac_Y_Q, 'Tamil Nadu')"
   ]
  },
  {
   "cell_type": "markdown",
   "id": "eeaf93a0",
   "metadata": {},
   "source": [
    "### aggregated user"
   ]
  },
  {
   "cell_type": "code",
   "execution_count": 19,
   "id": "0000a7ee",
   "metadata": {},
   "outputs": [],
   "source": [
    "#Aggre_user1\n",
    "def Aggre_user_plot_1(df, year):\n",
    "    aguy = df[df['Years'] == year]\n",
    "    aguy.reset_index(drop= True, inplace= True)\n",
    "\n",
    "    aguyg = pd.DataFrame(aguy.groupby('Brands')['Transaction_count'].sum())\n",
    "    aguyg.reset_index(inplace= True)\n",
    "    aguyg\n",
    "\n",
    "    fig_bar_1= px.bar(aguyg, x=\"Brands\",y= \"Transaction_count\", title=f\"{year} YEAR BRANDS AND TRANSACTION COUNT\",\n",
    "                    width=1000,color_discrete_sequence=px.colors.sequential.haline, hover_name= \"Brands\")\n",
    "    fig_bar_1.show()\n",
    "\n",
    "    return aguy"
   ]
  },
  {
   "cell_type": "code",
   "execution_count": null,
   "id": "dc62932d",
   "metadata": {},
   "outputs": [],
   "source": [
    "Aggre_user_Y = Aggre_user_plot_1(Aggre_user, 2018)"
   ]
  },
  {
   "cell_type": "code",
   "execution_count": 21,
   "id": "3050de70",
   "metadata": {},
   "outputs": [],
   "source": [
    "#Aggre_user2\n",
    "def Aggre_user_plot_2(df, quarter):\n",
    "    aguyq = Aggre_user_Y[Aggre_user_Y['Quarter'] == quarter]\n",
    "    aguyq.reset_index(drop= True, inplace= True)\n",
    "\n",
    "    aguyqg = pd.DataFrame(aguyq.groupby('Brands')['Transaction_count'].sum())\n",
    "    aguyqg.reset_index(inplace= True)\n",
    "\n",
    "    fig_bar_1= px.bar(aguyqg, x=\"Brands\",y= \"Transaction_count\", title=f\"{quarter} QUARTER BRANDS AND TRANSACTION COUNT\",\n",
    "                    width=1000,color_discrete_sequence=px.colors.sequential.haline_r, hover_name= \"Brands\")\n",
    "    fig_bar_1.show()\n",
    "\n",
    "    return aguyq\n",
    "\n"
   ]
  },
  {
   "cell_type": "code",
   "execution_count": null,
   "id": "2d9ced3a",
   "metadata": {},
   "outputs": [],
   "source": [
    "Aggre_user_Y_Q = Aggre_user_plot_2(Aggre_user_Y, 3)"
   ]
  },
  {
   "cell_type": "code",
   "execution_count": 23,
   "id": "aa4acb61",
   "metadata": {},
   "outputs": [],
   "source": [
    "#Aggre_user3\n",
    "def Aggre_user_plot_3(df, state):\n",
    "    auyqs= df[df['States'] == state]\n",
    "    auyqs.reset_index(drop= True, inplace= True)\n",
    "\n",
    "    fig_line_1= px.line(auyqs, x= \"Brands\", y=\"Transaction_count\", hover_data= \"Percentage\",\n",
    "                        width=1000,title=\" BRANDS, TRANSACTION COUNT, PERCENTAGE\", markers= True)\n",
    "    fig_line_1.show()"
   ]
  },
  {
   "cell_type": "code",
   "execution_count": null,
   "id": "5788ab1c",
   "metadata": {},
   "outputs": [],
   "source": [
    "Aggre_user_plot_3(Aggre_user_Y_Q, 'Andaman & Nicobar')"
   ]
  },
  {
   "cell_type": "code",
   "execution_count": null,
   "id": "470b03f5",
   "metadata": {},
   "outputs": [],
   "source": [
    "Aggre_user"
   ]
  },
  {
   "cell_type": "code",
   "execution_count": null,
   "id": "c2617c77",
   "metadata": {},
   "outputs": [],
   "source": [
    "Aggre_user_Y"
   ]
  },
  {
   "cell_type": "code",
   "execution_count": null,
   "id": "d91adb80",
   "metadata": {},
   "outputs": [],
   "source": [
    "Aggre_user_Y_Q"
   ]
  },
  {
   "cell_type": "markdown",
   "id": "3c343be0",
   "metadata": {},
   "source": [
    "### map insurance"
   ]
  },
  {
   "cell_type": "code",
   "execution_count": 25,
   "id": "ad7c05fb",
   "metadata": {},
   "outputs": [],
   "source": [
    "# map_insurance_district\n",
    "def map_insur_Districts(df, state):\n",
    "    \n",
    "    tacy= df[df[\"States\"] == state]\n",
    "    tacy.reset_index(drop= True, inplace= True)\n",
    "\n",
    "    tacyg=tacy.groupby(\"Districts\")[[\"Transaction_count\", \"Transaction_amount\"]].sum()\n",
    "    tacyg.reset_index(inplace= True)\n",
    "\n",
    "    fig_bar_1= px.bar(tacyg, x= \"Transaction_amount\", y=\"Districts\", orientation= \"h\",\n",
    "                        width=1000,title= f\"{state.upper()} DISTRICT AND TRANSACTION AMOUNT\", color_discrete_sequence= px.colors.sequential.Mint_r)\n",
    "    fig_bar_1.show()\n",
    "\n",
    "    fig_bar_2= px.bar(tacyg, x= \"Transaction_count\", y=\"Districts\", orientation= \"h\",\n",
    "                        width=1000,title= f\"{state.upper()} DISTRICT AND TRANSACTION COUNT\", color_discrete_sequence= px.colors.sequential.Bluered_r)\n",
    "    fig_bar_2.show()"
   ]
  },
  {
   "cell_type": "code",
   "execution_count": null,
   "id": "cae9ca36",
   "metadata": {},
   "outputs": [],
   "source": [
    "map_insur_tac_Y = Aggre_Transaction_amount_count_Y(map_insurance, 2022)"
   ]
  },
  {
   "cell_type": "code",
   "execution_count": null,
   "id": "c1704197",
   "metadata": {},
   "outputs": [],
   "source": [
    "map_insur_Districts(map_insur_tac_Y, 'West Bengal')"
   ]
  },
  {
   "cell_type": "code",
   "execution_count": null,
   "id": "496fa558",
   "metadata": {},
   "outputs": [],
   "source": [
    "map_insur_tac_Y_Q = Aggre_Transaction_amount_count_Y_Q(map_insur_tac_Y, 2)"
   ]
  },
  {
   "cell_type": "code",
   "execution_count": null,
   "id": "808f5126",
   "metadata": {},
   "outputs": [],
   "source": [
    "map_insur_Districts(map_insur_tac_Y_Q, 'Tamil Nadu')"
   ]
  },
  {
   "cell_type": "markdown",
   "id": "6607b6ea",
   "metadata": {},
   "source": [
    "### map transaction"
   ]
  },
  {
   "cell_type": "code",
   "execution_count": null,
   "id": "9e471d01",
   "metadata": {},
   "outputs": [],
   "source": [
    "map_tran_tac_Y = Aggre_Transaction_amount_count_Y(map_transaction, 2022)"
   ]
  },
  {
   "cell_type": "code",
   "execution_count": null,
   "id": "52ba90ef",
   "metadata": {},
   "outputs": [],
   "source": [
    "map_insur_Districts(map_tran_tac_Y, 'West Bengal')"
   ]
  },
  {
   "cell_type": "code",
   "execution_count": null,
   "id": "a9bcac0c",
   "metadata": {},
   "outputs": [],
   "source": [
    "map_tran_tac_Y_Q = Aggre_Transaction_amount_count_Y_Q(map_tran_tac_Y, 2)"
   ]
  },
  {
   "cell_type": "code",
   "execution_count": null,
   "id": "c406cdd9",
   "metadata": {},
   "outputs": [],
   "source": [
    "map_insur_Districts(map_tran_tac_Y_Q, 'Tamil Nadu')"
   ]
  },
  {
   "cell_type": "markdown",
   "id": "2b723674",
   "metadata": {},
   "source": [
    "### map user"
   ]
  },
  {
   "cell_type": "code",
   "execution_count": 34,
   "id": "51e1a576",
   "metadata": {},
   "outputs": [],
   "source": [
    "# Map_user_plot_1\n",
    "def map_user_plot_1(df, year):\n",
    "    muy = df[df['Years'] == year]\n",
    "    muy.reset_index(drop= True, inplace= True)\n",
    "    muy\n",
    "\n",
    "    muyg = muy.groupby('States')[['RegisteredUser', 'AppOpens']].sum()\n",
    "    muyg.reset_index(inplace= True)\n",
    "\n",
    "    fig_line_1= px.line(muyg, x= \"States\", y= [\"RegisteredUser\", \"AppOpens\"],\n",
    "                            width=1000, title=f\"{year} REGISTERED USER, APPOPENS\", height= 800, markers= True)\n",
    "    fig_line_1.show()\n",
    "\n",
    "    return muy\n"
   ]
  },
  {
   "cell_type": "code",
   "execution_count": null,
   "id": "5c4a68d6",
   "metadata": {},
   "outputs": [],
   "source": [
    "Map_user_Y = map_user_plot_1(map_user, 2020)"
   ]
  },
  {
   "cell_type": "code",
   "execution_count": 36,
   "id": "116b9362",
   "metadata": {},
   "outputs": [],
   "source": [
    "# Map_user_plot_2\n",
    "def map_user_plot_2(df, quarter):\n",
    "    muyq = df[df['Quarter'] == quarter]\n",
    "    muyq.reset_index(drop= True, inplace= True)\n",
    "    muyq\n",
    "\n",
    "    muyqg = muyq.groupby('States')[['RegisteredUser', 'AppOpens']].sum()\n",
    "    muyqg.reset_index(inplace= True)\n",
    "\n",
    "    fig_line_1= px.line(muyqg, x= \"States\", y= [\"RegisteredUser\", \"AppOpens\"],\n",
    "                            width=1000, title=f\"{quarter} QUARTER REGISTERED USER, APPOPENS\", height= 800, markers= True)\n",
    "    fig_line_1.show()\n",
    "\n",
    "    return muyq"
   ]
  },
  {
   "cell_type": "code",
   "execution_count": null,
   "id": "20062915",
   "metadata": {},
   "outputs": [],
   "source": [
    "Map_user_Y_Q= map_user_plot_2(Map_user_Y, 2)"
   ]
  },
  {
   "cell_type": "code",
   "execution_count": 38,
   "id": "b6401eb1",
   "metadata": {},
   "outputs": [],
   "source": [
    "# Map_user_plot_3\n",
    "def map_user_plot_3(df, states):\n",
    "    muyqs = df[df['States'] == states]\n",
    "    muyqs.reset_index(drop= True, inplace= True)\n",
    "\n",
    "    fig_map_user_bar_1= px.bar(muyqs, x= \"RegisteredUser\", y= \"Districts\", orientation= \"h\",\n",
    "                            width=1000, title=\"REGISTERED USER\", color_discrete_sequence= px.colors.sequential.Rainbow_r, height= 800)\n",
    "    fig_map_user_bar_1.show()\n",
    "\n",
    "    fig_map_user_bar_2= px.bar(muyqs, x= \"AppOpens\", y= \"Districts\", orientation= \"h\",\n",
    "                            width=1000, title=\"APPOPENS\", color_discrete_sequence= px.colors.sequential.Rainbow, height= 800)\n",
    "    fig_map_user_bar_2.show()\n",
    "\n",
    "    return muyqs"
   ]
  },
  {
   "cell_type": "code",
   "execution_count": null,
   "id": "197e78c3",
   "metadata": {},
   "outputs": [],
   "source": [
    "Map_user_Y_Q_S= map_user_plot_3(Map_user_Y_Q, 'Andaman & Nicobar')"
   ]
  },
  {
   "cell_type": "code",
   "execution_count": null,
   "id": "af801e16",
   "metadata": {},
   "outputs": [],
   "source": [
    "Map_user_Y_Q_S"
   ]
  },
  {
   "cell_type": "code",
   "execution_count": null,
   "id": "6cb70693",
   "metadata": {},
   "outputs": [],
   "source": [
    "Map_user_Y_Q"
   ]
  },
  {
   "cell_type": "code",
   "execution_count": null,
   "id": "5d65df78",
   "metadata": {},
   "outputs": [],
   "source": [
    "Map_user_Y"
   ]
  },
  {
   "cell_type": "code",
   "execution_count": null,
   "id": "16c0af70",
   "metadata": {},
   "outputs": [],
   "source": [
    "map_user"
   ]
  },
  {
   "cell_type": "markdown",
   "id": "26733044",
   "metadata": {},
   "source": [
    "### top insurance"
   ]
  },
  {
   "cell_type": "code",
   "execution_count": 57,
   "id": "a7b493a4",
   "metadata": {},
   "outputs": [],
   "source": [
    "# top_insurance_plot_1\n",
    "def Top_insurance_plot_1(df, state):\n",
    "    tiy = df[df['States'] == state]\n",
    "    tiy.reset_index(drop= True, inplace= True)\n",
    "\n",
    "    fig_top_insur_bar_1= px.bar(tiy, x= \"Quarter\", y= \"Transaction_amount\", hover_data= \"Pincodes\",\n",
    "                            width=1000, title=\"TRANSACTION AMOUNT\", color_discrete_sequence= px.colors.sequential.GnBu_r, height= 800)\n",
    "    fig_top_insur_bar_1.show()\n",
    "\n",
    "    fig_top_insur_bar_2= px.bar(tiy, x= \"Quarter\", y= \"Transaction_count\", hover_data= \"Pincodes\",\n",
    "                            width=1000, title=\"TRANSACTION COUNT\", color_discrete_sequence= px.colors.sequential.Agsunset, height= 800)\n",
    "    fig_top_insur_bar_2.show()"
   ]
  },
  {
   "cell_type": "code",
   "execution_count": null,
   "id": "63b59119",
   "metadata": {},
   "outputs": [],
   "source": [
    "top_insur_tac_Y = Aggre_Transaction_amount_count_Y(top_insurance, 2022)"
   ]
  },
  {
   "cell_type": "code",
   "execution_count": null,
   "id": "2b61dd42",
   "metadata": {},
   "outputs": [],
   "source": [
    "Top_insurance_plot_1(top_insur_tac_Y, \"West Bengal\")"
   ]
  },
  {
   "cell_type": "code",
   "execution_count": null,
   "id": "db292837",
   "metadata": {},
   "outputs": [],
   "source": [
    "top_insur_tac_Y_Q = Aggre_Transaction_amount_count_Y_Q(top_insur_tac_Y, 2)"
   ]
  },
  {
   "cell_type": "code",
   "execution_count": null,
   "id": "b51e3a2d",
   "metadata": {},
   "outputs": [],
   "source": [
    "tiy"
   ]
  },
  {
   "cell_type": "code",
   "execution_count": null,
   "id": "70c56025",
   "metadata": {},
   "outputs": [],
   "source": [
    "top_insurance"
   ]
  },
  {
   "cell_type": "markdown",
   "id": "d33fa36e",
   "metadata": {},
   "source": [
    "### top transaction"
   ]
  },
  {
   "cell_type": "code",
   "execution_count": null,
   "id": "47e640a0",
   "metadata": {},
   "outputs": [],
   "source": [
    "top_tran_tac_Y = Aggre_Transaction_amount_count_Y(top_transaction, 2022)"
   ]
  },
  {
   "cell_type": "code",
   "execution_count": null,
   "id": "8dd92d38",
   "metadata": {},
   "outputs": [],
   "source": [
    "Top_insurance_plot_1(top_tran_tac_Y, \"West Bengal\")"
   ]
  },
  {
   "cell_type": "code",
   "execution_count": null,
   "id": "bef6af58",
   "metadata": {},
   "outputs": [],
   "source": [
    "top_tran_tac_Y_Q = Aggre_Transaction_amount_count_Y_Q(top_tran_tac_Y, 2)"
   ]
  },
  {
   "cell_type": "code",
   "execution_count": null,
   "id": "92d200a4",
   "metadata": {},
   "outputs": [],
   "source": [
    "top_transaction"
   ]
  },
  {
   "cell_type": "markdown",
   "id": "6b0e2804",
   "metadata": {},
   "source": [
    "### top_user"
   ]
  },
  {
   "cell_type": "code",
   "execution_count": 83,
   "id": "d348d146",
   "metadata": {},
   "outputs": [],
   "source": [
    "#top_user_plot_1\n",
    "def top_user_plot_1(df, year):\n",
    "    tuy = df[df['Years'] == year]\n",
    "    tuy.reset_index(drop= True, inplace= True)\n",
    "\n",
    "    tuyg = pd.DataFrame(tuy.groupby(['States', 'Quarter'])['RegisteredUser'].sum())\n",
    "    tuyg.reset_index(inplace= True)\n",
    "    \n",
    "\n",
    "    fig_top_plot_1= px.bar(tuyg, x= \"States\", y= \"RegisteredUser\", color= \"Quarter\", width=1000, height= 800,\n",
    "                            color_discrete_sequence= px.colors.sequential.Burgyl, hover_data= \"States\",\n",
    "                            title= f\"{year} REGISTERED USERS\")\n",
    "    fig_top_plot_1.show()\n",
    "\n",
    "    return tuy"
   ]
  },
  {
   "cell_type": "code",
   "execution_count": null,
   "id": "ed61b421",
   "metadata": {},
   "outputs": [],
   "source": [
    "Top_user_Y = top_user_plot_1(top_user, 2018)"
   ]
  },
  {
   "cell_type": "code",
   "execution_count": 88,
   "id": "8857e527",
   "metadata": {},
   "outputs": [],
   "source": [
    "#top_user_plot_2\n",
    "def top_user_plot_2(df, state):\n",
    "    tuys = df[df['States'] == state]\n",
    "    tuys.reset_index(drop= True, inplace= True)\n",
    "\n",
    "    fig_top_plot_2= px.bar(tuys, x= \"Quarter\", y= \"RegisteredUser\", color= \"RegisteredUser\", width=1000, height= 800,\n",
    "                                color_continuous_scale= px.colors.sequential.Magenta, hover_data= \"Pincodes\",\n",
    "                                title= \"REGISTERED USERS, PINCODES, QUARTER\")\n",
    "\n",
    "    fig_top_plot_2.show()"
   ]
  },
  {
   "cell_type": "code",
   "execution_count": null,
   "id": "975ebf45",
   "metadata": {},
   "outputs": [],
   "source": [
    "top_user_plot_2(Top_user_Y, \"West Bengal\")"
   ]
  },
  {
   "cell_type": "code",
   "execution_count": 78,
   "id": "cfc994a0",
   "metadata": {},
   "outputs": [
    {
     "data": {
      "text/html": [
       "<div>\n",
       "<style scoped>\n",
       "    .dataframe tbody tr th:only-of-type {\n",
       "        vertical-align: middle;\n",
       "    }\n",
       "\n",
       "    .dataframe tbody tr th {\n",
       "        vertical-align: top;\n",
       "    }\n",
       "\n",
       "    .dataframe thead th {\n",
       "        text-align: right;\n",
       "    }\n",
       "</style>\n",
       "<table border=\"1\" class=\"dataframe\">\n",
       "  <thead>\n",
       "    <tr style=\"text-align: right;\">\n",
       "      <th></th>\n",
       "      <th>States</th>\n",
       "      <th>Years</th>\n",
       "      <th>Quarter</th>\n",
       "      <th>Pincodes</th>\n",
       "      <th>RegisteredUser</th>\n",
       "    </tr>\n",
       "  </thead>\n",
       "  <tbody>\n",
       "    <tr>\n",
       "      <th>0</th>\n",
       "      <td>Andaman &amp; Nicobar</td>\n",
       "      <td>2020</td>\n",
       "      <td>1</td>\n",
       "      <td>744103</td>\n",
       "      <td>1717074</td>\n",
       "    </tr>\n",
       "    <tr>\n",
       "      <th>1</th>\n",
       "      <td>Andaman &amp; Nicobar</td>\n",
       "      <td>2020</td>\n",
       "      <td>1</td>\n",
       "      <td>744101</td>\n",
       "      <td>1717074</td>\n",
       "    </tr>\n",
       "    <tr>\n",
       "      <th>2</th>\n",
       "      <td>Andaman &amp; Nicobar</td>\n",
       "      <td>2020</td>\n",
       "      <td>1</td>\n",
       "      <td>744105</td>\n",
       "      <td>1717074</td>\n",
       "    </tr>\n",
       "    <tr>\n",
       "      <th>3</th>\n",
       "      <td>Andaman &amp; Nicobar</td>\n",
       "      <td>2020</td>\n",
       "      <td>1</td>\n",
       "      <td>744102</td>\n",
       "      <td>1717074</td>\n",
       "    </tr>\n",
       "    <tr>\n",
       "      <th>4</th>\n",
       "      <td>Andaman &amp; Nicobar</td>\n",
       "      <td>2020</td>\n",
       "      <td>1</td>\n",
       "      <td>744202</td>\n",
       "      <td>1717074</td>\n",
       "    </tr>\n",
       "    <tr>\n",
       "      <th>...</th>\n",
       "      <td>...</td>\n",
       "      <td>...</td>\n",
       "      <td>...</td>\n",
       "      <td>...</td>\n",
       "      <td>...</td>\n",
       "    </tr>\n",
       "    <tr>\n",
       "      <th>1423</th>\n",
       "      <td>West Bengal</td>\n",
       "      <td>2020</td>\n",
       "      <td>4</td>\n",
       "      <td>700015</td>\n",
       "      <td>1717074</td>\n",
       "    </tr>\n",
       "    <tr>\n",
       "      <th>1424</th>\n",
       "      <td>West Bengal</td>\n",
       "      <td>2020</td>\n",
       "      <td>4</td>\n",
       "      <td>721101</td>\n",
       "      <td>1717074</td>\n",
       "    </tr>\n",
       "    <tr>\n",
       "      <th>1425</th>\n",
       "      <td>West Bengal</td>\n",
       "      <td>2020</td>\n",
       "      <td>4</td>\n",
       "      <td>742304</td>\n",
       "      <td>1717074</td>\n",
       "    </tr>\n",
       "    <tr>\n",
       "      <th>1426</th>\n",
       "      <td>West Bengal</td>\n",
       "      <td>2020</td>\n",
       "      <td>4</td>\n",
       "      <td>700091</td>\n",
       "      <td>1717074</td>\n",
       "    </tr>\n",
       "    <tr>\n",
       "      <th>1427</th>\n",
       "      <td>West Bengal</td>\n",
       "      <td>2020</td>\n",
       "      <td>4</td>\n",
       "      <td>700150</td>\n",
       "      <td>1717074</td>\n",
       "    </tr>\n",
       "  </tbody>\n",
       "</table>\n",
       "<p>1428 rows × 5 columns</p>\n",
       "</div>"
      ],
      "text/plain": [
       "                 States  Years  Quarter  Pincodes  RegisteredUser\n",
       "0     Andaman & Nicobar   2020        1    744103         1717074\n",
       "1     Andaman & Nicobar   2020        1    744101         1717074\n",
       "2     Andaman & Nicobar   2020        1    744105         1717074\n",
       "3     Andaman & Nicobar   2020        1    744102         1717074\n",
       "4     Andaman & Nicobar   2020        1    744202         1717074\n",
       "...                 ...    ...      ...       ...             ...\n",
       "1423        West Bengal   2020        4    700015         1717074\n",
       "1424        West Bengal   2020        4    721101         1717074\n",
       "1425        West Bengal   2020        4    742304         1717074\n",
       "1426        West Bengal   2020        4    700091         1717074\n",
       "1427        West Bengal   2020        4    700150         1717074\n",
       "\n",
       "[1428 rows x 5 columns]"
      ]
     },
     "execution_count": 78,
     "metadata": {},
     "output_type": "execute_result"
    }
   ],
   "source": [
    "Top_user_Y"
   ]
  },
  {
   "cell_type": "code",
   "execution_count": null,
   "id": "22cb94f0",
   "metadata": {},
   "outputs": [],
   "source": [
    "top_user"
   ]
  }
 ],
 "metadata": {
  "kernelspec": {
   "display_name": ".venv (3.12.4)",
   "language": "python",
   "name": "python3"
  },
  "language_info": {
   "codemirror_mode": {
    "name": "ipython",
    "version": 3
   },
   "file_extension": ".py",
   "mimetype": "text/x-python",
   "name": "python",
   "nbconvert_exporter": "python",
   "pygments_lexer": "ipython3",
   "version": "3.12.4"
  }
 },
 "nbformat": 4,
 "nbformat_minor": 5
}
